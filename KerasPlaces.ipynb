{
  "nbformat": 4,
  "nbformat_minor": 0,
  "metadata": {
    "colab": {
      "name": "KerasPlaces.ipynb",
      "version": "0.3.2",
      "provenance": [],
      "collapsed_sections": [],
      "toc_visible": true
    },
    "kernelspec": {
      "name": "python3",
      "display_name": "Python 3"
    },
    "accelerator": "GPU"
  },
  "cells": [
    {
      "cell_type": "code",
      "metadata": {
        "id": "gSjsYamPVuqd",
        "colab_type": "code",
        "outputId": "7a2f34a6-5d7b-41a4-a342-732033e99722",
        "colab": {
          "base_uri": "https://localhost:8080/",
          "height": 34
        }
      },
      "source": [
        "from google.colab import drive\n",
        "drive.mount('/gdrive')"
      ],
      "execution_count": 1,
      "outputs": [
        {
          "output_type": "stream",
          "text": [
            "Drive already mounted at /gdrive; to attempt to forcibly remount, call drive.mount(\"/gdrive\", force_remount=True).\n"
          ],
          "name": "stdout"
        }
      ]
    },
    {
      "cell_type": "code",
      "metadata": {
        "id": "T2H5qbguWjtG",
        "colab_type": "code",
        "colab": {}
      },
      "source": [
        "import os\n",
        "os.chdir('/gdrive/My Drive/Places')"
      ],
      "execution_count": 0,
      "outputs": []
    },
    {
      "cell_type": "markdown",
      "metadata": {
        "id": "dBAh0BGbWXCY",
        "colab_type": "text"
      },
      "source": [
        "# Let's do this man!"
      ]
    },
    {
      "cell_type": "code",
      "metadata": {
        "id": "81psl3jxXPDl",
        "colab_type": "code",
        "colab": {}
      },
      "source": [
        "import math, os\n",
        "import numpy as np\n",
        "import keras\n",
        "from keras.layers import Dropout, Flatten, BatchNormalization\n",
        "from keras.callbacks import EarlyStopping, ModelCheckpoint\n",
        "from keras.layers import Dense\n",
        "from keras.models import Model, Sequential\n",
        "from keras.optimizers import Adam\n",
        "from keras.preprocessing import image\n",
        "\n",
        "\n",
        "PATH = os.getcwd()\n",
        "# Define data path\n",
        "DATASET_DIR = PATH + '/my_training_data'\n",
        "\n",
        "SIZE = (224, 224)\n",
        "BATCH_SIZE = 16\n",
        "VALIDATION_SPLIT = 0.3\n",
        "IMG_SIZE = ( 224, 224, 3)"
      ],
      "execution_count": 0,
      "outputs": []
    },
    {
      "cell_type": "code",
      "metadata": {
        "id": "-9zw37zuZiQu",
        "colab_type": "code",
        "colab": {
          "base_uri": "https://localhost:8080/",
          "height": 51
        },
        "outputId": "d5d9b339-9d17-4b3b-8703-8b4d10dd6875"
      },
      "source": [
        "# How many data and classes ..\n",
        "num_dataset_samples = sum([len(files) for r, d, files in os.walk(DATASET_DIR)])\n",
        "\n",
        "np.random.seed(42)\n",
        "num_train_steps = math.floor((num_dataset_samples*(1-VALIDATION_SPLIT))/BATCH_SIZE)\n",
        "num_valid_steps = math.floor((num_dataset_samples*VALIDATION_SPLIT)/BATCH_SIZE)\n",
        "\n",
        "generator = image.ImageDataGenerator(validation_split=VALIDATION_SPLIT)\n",
        "\n",
        "batches = generator.flow_from_directory(DATASET_DIR, subset='training', target_size=SIZE, class_mode='categorical', shuffle=True, batch_size=BATCH_SIZE)\n",
        "val_batches = generator.flow_from_directory(DATASET_DIR, subset='validation', target_size=SIZE, class_mode='categorical', shuffle=True, batch_size=BATCH_SIZE)\n"
      ],
      "execution_count": 6,
      "outputs": [
        {
          "output_type": "stream",
          "text": [
            "Found 451 images belonging to 2 classes.\n",
            "Found 191 images belonging to 2 classes.\n"
          ],
          "name": "stdout"
        }
      ]
    },
    {
      "cell_type": "code",
      "metadata": {
        "id": "u_r3Y3TxZnYq",
        "colab_type": "code",
        "colab": {
          "base_uri": "https://localhost:8080/",
          "height": 88
        },
        "outputId": "cc3469e1-6afe-49b7-d96e-ec3810517bd0"
      },
      "source": [
        "\n",
        "#  Let's use mobilenet as it is simple and needs less memory\n",
        "model = keras.applications.mobilenet_v2.MobileNetV2(input_shape=(224, 224, 3),  include_top=False, weights='imagenet')\n"
      ],
      "execution_count": 7,
      "outputs": [
        {
          "output_type": "stream",
          "text": [
            "WARNING:tensorflow:From /usr/local/lib/python3.6/dist-packages/tensorflow/python/framework/op_def_library.py:263: colocate_with (from tensorflow.python.framework.ops) is deprecated and will be removed in a future version.\n",
            "Instructions for updating:\n",
            "Colocations handled automatically by placer.\n"
          ],
          "name": "stdout"
        }
      ]
    },
    {
      "cell_type": "code",
      "metadata": {
        "id": "C8ZUI-JoZqyd",
        "colab_type": "code",
        "colab": {
          "base_uri": "https://localhost:8080/",
          "height": 34
        },
        "outputId": "1f8351e8-9698-4b12-8808-2dafb2786c91"
      },
      "source": [
        "# classes\n",
        "classes = list(iter(batches.class_indices))\n",
        "classes"
      ],
      "execution_count": 8,
      "outputs": [
        {
          "output_type": "execute_result",
          "data": {
            "text/plain": [
              "['bodha', 'nyatapola']"
            ]
          },
          "metadata": {
            "tags": []
          },
          "execution_count": 8
        }
      ]
    },
    {
      "cell_type": "code",
      "metadata": {
        "id": "BWQvavJ7Zuc0",
        "colab_type": "code",
        "colab": {
          "base_uri": "https://localhost:8080/",
          "height": 88
        },
        "outputId": "091f993c-f291-4637-e92f-594a08c70878"
      },
      "source": [
        "\n",
        "# Our Model starts\n",
        "x = Sequential()\n",
        "x.add(model)\n",
        "x.add(Flatten())\n",
        "x.add(Dense(16, activation='relu'))\n",
        "x.add(Dropout(0.5))\n",
        "x.add(BatchNormalization())\n",
        "# predictions = Dense(num_classes, activation = 'softmax')(x)\n",
        "x.add(Dense(len(classes), activation=\"softmax\"))\n"
      ],
      "execution_count": 9,
      "outputs": [
        {
          "output_type": "stream",
          "text": [
            "WARNING:tensorflow:From /usr/local/lib/python3.6/dist-packages/keras/backend/tensorflow_backend.py:3445: calling dropout (from tensorflow.python.ops.nn_ops) with keep_prob is deprecated and will be removed in a future version.\n",
            "Instructions for updating:\n",
            "Please use `rate` instead of `keep_prob`. Rate should be set to `rate = 1 - keep_prob`.\n"
          ],
          "name": "stdout"
        }
      ]
    },
    {
      "cell_type": "code",
      "metadata": {
        "id": "zb4JhXAQZxVR",
        "colab_type": "code",
        "colab": {}
      },
      "source": [
        "\n",
        "# Compile\n",
        "x.compile(optimizer=Adam(lr=0.0001), loss='categorical_crossentropy', metrics=['accuracy'])\n"
      ],
      "execution_count": 0,
      "outputs": []
    },
    {
      "cell_type": "code",
      "metadata": {
        "id": "KS9sbAbCZ1A_",
        "colab_type": "code",
        "colab": {}
      },
      "source": [
        "\n",
        "# logs on csv file... \n",
        "for c in batches.class_indices:\n",
        "    classes[batches.class_indices[c]] = c\n",
        "x.classes = classes\n",
        "filename='model_train_new.csv'\n",
        "csv_log=keras.callbacks.CSVLogger(filename, separator=',', append=False)\n"
      ],
      "execution_count": 0,
      "outputs": []
    },
    {
      "cell_type": "code",
      "metadata": {
        "id": "1jHytlwAZ6Q-",
        "colab_type": "code",
        "colab": {
          "base_uri": "https://localhost:8080/",
          "height": 462
        },
        "outputId": "fc080538-7012-4cb4-9c08-e95989229a5c"
      },
      "source": [
        "\n",
        "# Early stopping if loss doesnt improve\n",
        "early_stopping = EarlyStopping(patience=10)\n",
        "checkpointer = ModelCheckpoint('mobile_best.h5', verbose=1, save_best_only=True)\n",
        "\n",
        "tensorboard_callback = keras.callbacks.TensorBoard(log_dir='./logs', histogram_freq=0, batch_size=BATCH_SIZE, write_graph=True, write_grads=False, write_images=False, embeddings_freq=0, embeddings_layer_names=None, embeddings_metadata=None)\n",
        "\n",
        "# Fit and save\n",
        "x.fit_generator(batches, steps_per_epoch=num_train_steps, epochs=8, callbacks=[early_stopping, checkpointer, tensorboard_callback, csv_log], validation_data=val_batches, validation_steps=num_valid_steps)\n",
        "x.save('mobile_final.h5')\n",
        "\n",
        "scoreSeg = x.evaluate_generator(val_batches, num_dataset_samples*VALIDATION_SPLIT )\n",
        "print(\"Accuracy = \",scoreSeg[1])"
      ],
      "execution_count": 0,
      "outputs": [
        {
          "output_type": "stream",
          "text": [
            "WARNING:tensorflow:From /usr/local/lib/python3.6/dist-packages/tensorflow/python/ops/math_ops.py:3066: to_int32 (from tensorflow.python.ops.math_ops) is deprecated and will be removed in a future version.\n",
            "Instructions for updating:\n",
            "Use tf.cast instead.\n",
            "Epoch 1/8\n",
            "28/28 [==============================] - 292s 10s/step - loss: 0.4277 - acc: 0.7924 - val_loss: 0.1411 - val_acc: 0.9634\n",
            "\n",
            "Epoch 00001: val_loss improved from inf to 0.14106, saving model to mobile_best.h5\n",
            "Epoch 2/8\n",
            "28/28 [==============================] - 270s 10s/step - loss: 0.2376 - acc: 0.9263 - val_loss: 0.0841 - val_acc: 0.9948\n",
            "\n",
            "Epoch 00002: val_loss improved from 0.14106 to 0.08407, saving model to mobile_best.h5\n",
            "Epoch 3/8\n",
            "28/28 [==============================] - 273s 10s/step - loss: 0.2221 - acc: 0.9571 - val_loss: 0.0765 - val_acc: 1.0000\n",
            "\n",
            "Epoch 00003: val_loss improved from 0.08407 to 0.07650, saving model to mobile_best.h5\n",
            "Epoch 4/8\n",
            "28/28 [==============================] - 270s 10s/step - loss: 0.2037 - acc: 0.9214 - val_loss: 0.0674 - val_acc: 1.0000\n",
            "\n",
            "Epoch 00004: val_loss improved from 0.07650 to 0.06742, saving model to mobile_best.h5\n",
            "Epoch 5/8\n",
            "28/28 [==============================] - 272s 10s/step - loss: 0.1915 - acc: 0.9437 - val_loss: 0.0870 - val_acc: 0.9948\n",
            "\n",
            "Epoch 00005: val_loss did not improve from 0.06742\n",
            "Epoch 6/8\n",
            " 6/28 [=====>........................] - ETA: 2:51 - loss: 0.1534 - acc: 0.9375"
          ],
          "name": "stdout"
        }
      ]
    },
    {
      "cell_type": "code",
      "metadata": {
        "id": "7ug31OQ8ZV4l",
        "colab_type": "code",
        "colab": {
          "base_uri": "https://localhost:8080/",
          "height": 340
        },
        "outputId": "78d057a7-2e6e-4ce2-ee27-02a21c5a20bb"
      },
      "source": [
        "x.summary()"
      ],
      "execution_count": 6,
      "outputs": [
        {
          "output_type": "stream",
          "text": [
            "_________________________________________________________________\n",
            "Layer (type)                 Output Shape              Param #   \n",
            "=================================================================\n",
            "mobilenetv2_1.00_224 (Model) (None, 7, 7, 1280)        2257984   \n",
            "_________________________________________________________________\n",
            "flatten_1 (Flatten)          (None, 62720)             0         \n",
            "_________________________________________________________________\n",
            "dense_1 (Dense)              (None, 16)                1003536   \n",
            "_________________________________________________________________\n",
            "dropout_1 (Dropout)          (None, 16)                0         \n",
            "_________________________________________________________________\n",
            "batch_normalization_1 (Batch (None, 16)                64        \n",
            "_________________________________________________________________\n",
            "dense_2 (Dense)              (None, 2)                 34        \n",
            "=================================================================\n",
            "Total params: 3,261,618\n",
            "Trainable params: 3,227,474\n",
            "Non-trainable params: 34,144\n",
            "_________________________________________________________________\n"
          ],
          "name": "stdout"
        }
      ]
    },
    {
      "cell_type": "code",
      "metadata": {
        "id": "wjsZ3QmOa9aR",
        "colab_type": "code",
        "outputId": "6825c372-9b6c-4356-ae4c-ce38cd77ed4d",
        "colab": {
          "base_uri": "https://localhost:8080/",
          "height": 751
        }
      },
      "source": [
        "!pip install tensorflow==1.13.0rc1\n"
      ],
      "execution_count": 9,
      "outputs": [
        {
          "output_type": "stream",
          "text": [
            "Collecting tensorflow==1.13.0rc1\n",
            "\u001b[?25l  Downloading https://files.pythonhosted.org/packages/b6/53/f393e58930bca5dad90d164d0c7d3ffdd83f2978c6c24e124a5f128f87e9/tensorflow-1.13.0rc1-cp36-cp36m-manylinux1_x86_64.whl (92.6MB)\n",
            "\u001b[K     |████████████████████████████████| 92.6MB 2.0MB/s \n",
            "\u001b[?25hCollecting tensorboard<1.13.0,>=1.12.0 (from tensorflow==1.13.0rc1)\n",
            "\u001b[?25l  Downloading https://files.pythonhosted.org/packages/07/53/8d32ce9471c18f8d99028b7cef2e5b39ea8765bd7ef250ca05b490880971/tensorboard-1.12.2-py3-none-any.whl (3.0MB)\n",
            "\u001b[K     |████████████████████████████████| 3.1MB 44.0MB/s \n",
            "\u001b[?25hRequirement already satisfied: wheel>=0.26 in /usr/local/lib/python3.6/dist-packages (from tensorflow==1.13.0rc1) (0.33.4)\n",
            "Requirement already satisfied: gast>=0.2.0 in /usr/local/lib/python3.6/dist-packages (from tensorflow==1.13.0rc1) (0.2.2)\n",
            "Requirement already satisfied: absl-py>=0.1.6 in /usr/local/lib/python3.6/dist-packages (from tensorflow==1.13.0rc1) (0.7.1)\n",
            "Collecting tensorflow-estimator<1.14.0rc0,>=1.13.0rc0 (from tensorflow==1.13.0rc1)\n",
            "\u001b[?25l  Downloading https://files.pythonhosted.org/packages/bb/48/13f49fc3fa0fdf916aa1419013bb8f2ad09674c275b4046d5ee669a46873/tensorflow_estimator-1.13.0-py2.py3-none-any.whl (367kB)\n",
            "\u001b[K     |████████████████████████████████| 368kB 44.5MB/s \n",
            "\u001b[?25hRequirement already satisfied: termcolor>=1.1.0 in /usr/local/lib/python3.6/dist-packages (from tensorflow==1.13.0rc1) (1.1.0)\n",
            "Requirement already satisfied: keras-preprocessing>=1.0.5 in /usr/local/lib/python3.6/dist-packages (from tensorflow==1.13.0rc1) (1.1.0)\n",
            "Requirement already satisfied: astor>=0.6.0 in /usr/local/lib/python3.6/dist-packages (from tensorflow==1.13.0rc1) (0.8.0)\n",
            "Requirement already satisfied: numpy>=1.13.3 in /usr/local/lib/python3.6/dist-packages (from tensorflow==1.13.0rc1) (1.16.4)\n",
            "Requirement already satisfied: six>=1.10.0 in /usr/local/lib/python3.6/dist-packages (from tensorflow==1.13.0rc1) (1.12.0)\n",
            "Requirement already satisfied: grpcio>=1.8.6 in /usr/local/lib/python3.6/dist-packages (from tensorflow==1.13.0rc1) (1.15.0)\n",
            "Requirement already satisfied: keras-applications>=1.0.6 in /usr/local/lib/python3.6/dist-packages (from tensorflow==1.13.0rc1) (1.0.8)\n",
            "Requirement already satisfied: protobuf>=3.6.1 in /usr/local/lib/python3.6/dist-packages (from tensorflow==1.13.0rc1) (3.7.1)\n",
            "Requirement already satisfied: markdown>=2.6.8 in /usr/local/lib/python3.6/dist-packages (from tensorboard<1.13.0,>=1.12.0->tensorflow==1.13.0rc1) (3.1.1)\n",
            "Requirement already satisfied: werkzeug>=0.11.10 in /usr/local/lib/python3.6/dist-packages (from tensorboard<1.13.0,>=1.12.0->tensorflow==1.13.0rc1) (0.15.4)\n",
            "Collecting mock>=2.0.0 (from tensorflow-estimator<1.14.0rc0,>=1.13.0rc0->tensorflow==1.13.0rc1)\n",
            "  Downloading https://files.pythonhosted.org/packages/05/d2/f94e68be6b17f46d2c353564da56e6fb89ef09faeeff3313a046cb810ca9/mock-3.0.5-py2.py3-none-any.whl\n",
            "Requirement already satisfied: h5py in /usr/local/lib/python3.6/dist-packages (from keras-applications>=1.0.6->tensorflow==1.13.0rc1) (2.8.0)\n",
            "Requirement already satisfied: setuptools in /usr/local/lib/python3.6/dist-packages (from protobuf>=3.6.1->tensorflow==1.13.0rc1) (41.0.1)\n",
            "Installing collected packages: tensorboard, mock, tensorflow-estimator, tensorflow\n",
            "  Found existing installation: tensorboard 1.13.1\n",
            "    Uninstalling tensorboard-1.13.1:\n",
            "      Successfully uninstalled tensorboard-1.13.1\n",
            "  Found existing installation: tensorflow-estimator 1.14.0rc0\n",
            "    Uninstalling tensorflow-estimator-1.14.0rc0:\n",
            "      Successfully uninstalled tensorflow-estimator-1.14.0rc0\n",
            "  Found existing installation: tensorflow 1.14.0rc1\n",
            "    Uninstalling tensorflow-1.14.0rc1:\n",
            "      Successfully uninstalled tensorflow-1.14.0rc1\n",
            "Successfully installed mock-3.0.5 tensorboard-1.12.2 tensorflow-1.13.0rc1 tensorflow-estimator-1.13.0\n"
          ],
          "name": "stdout"
        },
        {
          "output_type": "display_data",
          "data": {
            "application/vnd.colab-display-data+json": {
              "pip_warning": {
                "packages": [
                  "tensorboard",
                  "tensorflow",
                  "tensorflow_estimator"
                ]
              }
            }
          },
          "metadata": {
            "tags": []
          }
        }
      ]
    },
    {
      "cell_type": "code",
      "metadata": {
        "id": "cC63KWR7aRrt",
        "colab_type": "code",
        "outputId": "02500a16-0cae-49e3-b5ad-24b3fadf09d3",
        "colab": {
          "base_uri": "https://localhost:8080/",
          "height": 292
        }
      },
      "source": [
        "from tensorflow import lite\n",
        "converter = lite.TFLiteConverter.from_keras_model_file( '/gdrive/My Drive/Places/resnet_best.h5') \n",
        "tfmodel = converter.convert() \n",
        "\n",
        "open (\"yes.tflite\" , \"wb\") .write(tfmodel)"
      ],
      "execution_count": 1,
      "outputs": [
        {
          "output_type": "stream",
          "text": [
            "WARNING:tensorflow:From /usr/local/lib/python3.6/dist-packages/tensorflow/python/ops/resource_variable_ops.py:435: colocate_with (from tensorflow.python.framework.ops) is deprecated and will be removed in a future version.\n",
            "Instructions for updating:\n",
            "Colocations handled automatically by placer.\n",
            "WARNING:tensorflow:From /usr/local/lib/python3.6/dist-packages/tensorflow/python/ops/math_ops.py:3066: to_int32 (from tensorflow.python.ops.math_ops) is deprecated and will be removed in a future version.\n",
            "Instructions for updating:\n",
            "Use tf.cast instead.\n",
            "WARNING:tensorflow:From /usr/local/lib/python3.6/dist-packages/tensorflow/lite/python/lite.py:591: convert_variables_to_constants (from tensorflow.python.framework.graph_util_impl) is deprecated and will be removed in a future version.\n",
            "Instructions for updating:\n",
            "Use tf.compat.v1.graph_util.convert_variables_to_constants\n",
            "WARNING:tensorflow:From /usr/local/lib/python3.6/dist-packages/tensorflow/python/framework/graph_util_impl.py:245: extract_sub_graph (from tensorflow.python.framework.graph_util_impl) is deprecated and will be removed in a future version.\n",
            "Instructions for updating:\n",
            "Use tf.compat.v1.graph_util.extract_sub_graph\n",
            "INFO:tensorflow:Froze 268 variables.\n",
            "INFO:tensorflow:Converted 268 variables to const ops.\n"
          ],
          "name": "stdout"
        },
        {
          "output_type": "execute_result",
          "data": {
            "text/plain": [
              "12867328"
            ]
          },
          "metadata": {
            "tags": []
          },
          "execution_count": 1
        }
      ]
    }
  ]
}